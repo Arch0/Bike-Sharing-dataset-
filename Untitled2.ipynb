{
  "nbformat": 4,
  "nbformat_minor": 0,
  "metadata": {
    "colab": {
      "name": "Untitled2.ipynb",
      "provenance": [],
      "mount_file_id": "1W72jDMQHmC7JMWMRJ1N86fl13iDzKOwC",
      "authorship_tag": "ABX9TyMt7ZFd8is+CeuW62NT+iMX",
      "include_colab_link": true
    },
    "kernelspec": {
      "name": "python3",
      "display_name": "Python 3"
    },
    "language_info": {
      "name": "python"
    }
  },
  "cells": [
    {
      "cell_type": "markdown",
      "metadata": {
        "id": "view-in-github",
        "colab_type": "text"
      },
      "source": [
        "<a href=\"https://colab.research.google.com/github/Arch0/Bike-Sharing-dataset-/blob/main/Untitled2.ipynb\" target=\"_parent\"><img src=\"https://colab.research.google.com/assets/colab-badge.svg\" alt=\"Open In Colab\"/></a>"
      ]
    },
    {
      "cell_type": "code",
      "metadata": {
        "id": "EMLPzj5S51w4"
      },
      "source": [
        ""
      ],
      "execution_count": 44,
      "outputs": []
    },
    {
      "cell_type": "markdown",
      "metadata": {
        "id": "eH9bzrVb6AtC"
      },
      "source": [
        ""
      ]
    },
    {
      "cell_type": "code",
      "metadata": {
        "id": "E9ZdyBgn6BUm"
      },
      "source": [
        "import numpy as np\n",
        "import pandas as pd"
      ],
      "execution_count": 45,
      "outputs": []
    },
    {
      "cell_type": "code",
      "metadata": {
        "id": "jMTyNND46Ewy"
      },
      "source": [
        "df=pd.read_csv(\"/content/drive/MyDrive/day (1).csv\")"
      ],
      "execution_count": 46,
      "outputs": []
    },
    {
      "cell_type": "code",
      "metadata": {
        "colab": {
          "base_uri": "https://localhost:8080/",
          "height": 204
        },
        "id": "iDeNnJvw6czJ",
        "outputId": "7da3bc81-3f47-4204-9112-05a400ea5547"
      },
      "source": [
        "df.head()"
      ],
      "execution_count": 47,
      "outputs": [
        {
          "output_type": "execute_result",
          "data": {
            "text/html": [
              "<div>\n",
              "<style scoped>\n",
              "    .dataframe tbody tr th:only-of-type {\n",
              "        vertical-align: middle;\n",
              "    }\n",
              "\n",
              "    .dataframe tbody tr th {\n",
              "        vertical-align: top;\n",
              "    }\n",
              "\n",
              "    .dataframe thead th {\n",
              "        text-align: right;\n",
              "    }\n",
              "</style>\n",
              "<table border=\"1\" class=\"dataframe\">\n",
              "  <thead>\n",
              "    <tr style=\"text-align: right;\">\n",
              "      <th></th>\n",
              "      <th>instant</th>\n",
              "      <th>dteday</th>\n",
              "      <th>season</th>\n",
              "      <th>yr</th>\n",
              "      <th>mnth</th>\n",
              "      <th>holiday</th>\n",
              "      <th>weekday</th>\n",
              "      <th>workingday</th>\n",
              "      <th>weathersit</th>\n",
              "      <th>temp</th>\n",
              "      <th>atemp</th>\n",
              "      <th>hum</th>\n",
              "      <th>windspeed</th>\n",
              "      <th>casual</th>\n",
              "      <th>registered</th>\n",
              "      <th>cnt</th>\n",
              "    </tr>\n",
              "  </thead>\n",
              "  <tbody>\n",
              "    <tr>\n",
              "      <th>0</th>\n",
              "      <td>1</td>\n",
              "      <td>01-01-2018</td>\n",
              "      <td>1</td>\n",
              "      <td>0</td>\n",
              "      <td>1</td>\n",
              "      <td>0</td>\n",
              "      <td>6</td>\n",
              "      <td>0</td>\n",
              "      <td>2</td>\n",
              "      <td>14.110847</td>\n",
              "      <td>18.18125</td>\n",
              "      <td>80.5833</td>\n",
              "      <td>10.749882</td>\n",
              "      <td>331</td>\n",
              "      <td>654</td>\n",
              "      <td>985</td>\n",
              "    </tr>\n",
              "    <tr>\n",
              "      <th>1</th>\n",
              "      <td>2</td>\n",
              "      <td>02-01-2018</td>\n",
              "      <td>1</td>\n",
              "      <td>0</td>\n",
              "      <td>1</td>\n",
              "      <td>0</td>\n",
              "      <td>0</td>\n",
              "      <td>0</td>\n",
              "      <td>2</td>\n",
              "      <td>14.902598</td>\n",
              "      <td>17.68695</td>\n",
              "      <td>69.6087</td>\n",
              "      <td>16.652113</td>\n",
              "      <td>131</td>\n",
              "      <td>670</td>\n",
              "      <td>801</td>\n",
              "    </tr>\n",
              "    <tr>\n",
              "      <th>2</th>\n",
              "      <td>3</td>\n",
              "      <td>03-01-2018</td>\n",
              "      <td>1</td>\n",
              "      <td>0</td>\n",
              "      <td>1</td>\n",
              "      <td>0</td>\n",
              "      <td>1</td>\n",
              "      <td>1</td>\n",
              "      <td>1</td>\n",
              "      <td>8.050924</td>\n",
              "      <td>9.47025</td>\n",
              "      <td>43.7273</td>\n",
              "      <td>16.636703</td>\n",
              "      <td>120</td>\n",
              "      <td>1229</td>\n",
              "      <td>1349</td>\n",
              "    </tr>\n",
              "    <tr>\n",
              "      <th>3</th>\n",
              "      <td>4</td>\n",
              "      <td>04-01-2018</td>\n",
              "      <td>1</td>\n",
              "      <td>0</td>\n",
              "      <td>1</td>\n",
              "      <td>0</td>\n",
              "      <td>2</td>\n",
              "      <td>1</td>\n",
              "      <td>1</td>\n",
              "      <td>8.200000</td>\n",
              "      <td>10.60610</td>\n",
              "      <td>59.0435</td>\n",
              "      <td>10.739832</td>\n",
              "      <td>108</td>\n",
              "      <td>1454</td>\n",
              "      <td>1562</td>\n",
              "    </tr>\n",
              "    <tr>\n",
              "      <th>4</th>\n",
              "      <td>5</td>\n",
              "      <td>05-01-2018</td>\n",
              "      <td>1</td>\n",
              "      <td>0</td>\n",
              "      <td>1</td>\n",
              "      <td>0</td>\n",
              "      <td>3</td>\n",
              "      <td>1</td>\n",
              "      <td>1</td>\n",
              "      <td>9.305237</td>\n",
              "      <td>11.46350</td>\n",
              "      <td>43.6957</td>\n",
              "      <td>12.522300</td>\n",
              "      <td>82</td>\n",
              "      <td>1518</td>\n",
              "      <td>1600</td>\n",
              "    </tr>\n",
              "  </tbody>\n",
              "</table>\n",
              "</div>"
            ],
            "text/plain": [
              "   instant      dteday  season  yr  ...  windspeed  casual  registered   cnt\n",
              "0        1  01-01-2018       1   0  ...  10.749882     331         654   985\n",
              "1        2  02-01-2018       1   0  ...  16.652113     131         670   801\n",
              "2        3  03-01-2018       1   0  ...  16.636703     120        1229  1349\n",
              "3        4  04-01-2018       1   0  ...  10.739832     108        1454  1562\n",
              "4        5  05-01-2018       1   0  ...  12.522300      82        1518  1600\n",
              "\n",
              "[5 rows x 16 columns]"
            ]
          },
          "metadata": {
            "tags": []
          },
          "execution_count": 47
        }
      ]
    },
    {
      "cell_type": "code",
      "metadata": {
        "id": "U3r5Uyrq6dkM"
      },
      "source": [
        ""
      ],
      "execution_count": 47,
      "outputs": []
    },
    {
      "cell_type": "markdown",
      "metadata": {
        "id": "IHbd7FqF6v1v"
      },
      "source": [
        "Inspect the various aspects of the housing dataframe"
      ]
    },
    {
      "cell_type": "code",
      "metadata": {
        "colab": {
          "base_uri": "https://localhost:8080/"
        },
        "id": "Sx67vbTa6w8a",
        "outputId": "c524d3c2-ebeb-48e0-9b0c-1ce2c124bc75"
      },
      "source": [
        "df.shape"
      ],
      "execution_count": 48,
      "outputs": [
        {
          "output_type": "execute_result",
          "data": {
            "text/plain": [
              "(730, 16)"
            ]
          },
          "metadata": {
            "tags": []
          },
          "execution_count": 48
        }
      ]
    },
    {
      "cell_type": "code",
      "metadata": {
        "colab": {
          "base_uri": "https://localhost:8080/"
        },
        "id": "X2VLhhlW8cer",
        "outputId": "bc7501e5-b97e-4378-88f1-8b1b6ad52f45"
      },
      "source": [
        "df.info()"
      ],
      "execution_count": 49,
      "outputs": [
        {
          "output_type": "stream",
          "text": [
            "<class 'pandas.core.frame.DataFrame'>\n",
            "RangeIndex: 730 entries, 0 to 729\n",
            "Data columns (total 16 columns):\n",
            " #   Column      Non-Null Count  Dtype  \n",
            "---  ------      --------------  -----  \n",
            " 0   instant     730 non-null    int64  \n",
            " 1   dteday      730 non-null    object \n",
            " 2   season      730 non-null    int64  \n",
            " 3   yr          730 non-null    int64  \n",
            " 4   mnth        730 non-null    int64  \n",
            " 5   holiday     730 non-null    int64  \n",
            " 6   weekday     730 non-null    int64  \n",
            " 7   workingday  730 non-null    int64  \n",
            " 8   weathersit  730 non-null    int64  \n",
            " 9   temp        730 non-null    float64\n",
            " 10  atemp       730 non-null    float64\n",
            " 11  hum         730 non-null    float64\n",
            " 12  windspeed   730 non-null    float64\n",
            " 13  casual      730 non-null    int64  \n",
            " 14  registered  730 non-null    int64  \n",
            " 15  cnt         730 non-null    int64  \n",
            "dtypes: float64(4), int64(11), object(1)\n",
            "memory usage: 91.4+ KB\n"
          ],
          "name": "stdout"
        }
      ]
    },
    {
      "cell_type": "code",
      "metadata": {
        "colab": {
          "base_uri": "https://localhost:8080/",
          "height": 317
        },
        "id": "0bOEQAb68lsa",
        "outputId": "cd4f8394-ee30-44a9-f3a9-d4740d92c35d"
      },
      "source": [
        "df.describe()"
      ],
      "execution_count": 50,
      "outputs": [
        {
          "output_type": "execute_result",
          "data": {
            "text/html": [
              "<div>\n",
              "<style scoped>\n",
              "    .dataframe tbody tr th:only-of-type {\n",
              "        vertical-align: middle;\n",
              "    }\n",
              "\n",
              "    .dataframe tbody tr th {\n",
              "        vertical-align: top;\n",
              "    }\n",
              "\n",
              "    .dataframe thead th {\n",
              "        text-align: right;\n",
              "    }\n",
              "</style>\n",
              "<table border=\"1\" class=\"dataframe\">\n",
              "  <thead>\n",
              "    <tr style=\"text-align: right;\">\n",
              "      <th></th>\n",
              "      <th>instant</th>\n",
              "      <th>season</th>\n",
              "      <th>yr</th>\n",
              "      <th>mnth</th>\n",
              "      <th>holiday</th>\n",
              "      <th>weekday</th>\n",
              "      <th>workingday</th>\n",
              "      <th>weathersit</th>\n",
              "      <th>temp</th>\n",
              "      <th>atemp</th>\n",
              "      <th>hum</th>\n",
              "      <th>windspeed</th>\n",
              "      <th>casual</th>\n",
              "      <th>registered</th>\n",
              "      <th>cnt</th>\n",
              "    </tr>\n",
              "  </thead>\n",
              "  <tbody>\n",
              "    <tr>\n",
              "      <th>count</th>\n",
              "      <td>730.000000</td>\n",
              "      <td>730.000000</td>\n",
              "      <td>730.000000</td>\n",
              "      <td>730.000000</td>\n",
              "      <td>730.000000</td>\n",
              "      <td>730.000000</td>\n",
              "      <td>730.000000</td>\n",
              "      <td>730.000000</td>\n",
              "      <td>730.000000</td>\n",
              "      <td>730.000000</td>\n",
              "      <td>730.000000</td>\n",
              "      <td>730.000000</td>\n",
              "      <td>730.000000</td>\n",
              "      <td>730.000000</td>\n",
              "      <td>730.000000</td>\n",
              "    </tr>\n",
              "    <tr>\n",
              "      <th>mean</th>\n",
              "      <td>365.500000</td>\n",
              "      <td>2.498630</td>\n",
              "      <td>0.500000</td>\n",
              "      <td>6.526027</td>\n",
              "      <td>0.028767</td>\n",
              "      <td>2.997260</td>\n",
              "      <td>0.683562</td>\n",
              "      <td>1.394521</td>\n",
              "      <td>20.319259</td>\n",
              "      <td>23.726322</td>\n",
              "      <td>62.765175</td>\n",
              "      <td>12.763620</td>\n",
              "      <td>849.249315</td>\n",
              "      <td>3658.757534</td>\n",
              "      <td>4508.006849</td>\n",
              "    </tr>\n",
              "    <tr>\n",
              "      <th>std</th>\n",
              "      <td>210.877136</td>\n",
              "      <td>1.110184</td>\n",
              "      <td>0.500343</td>\n",
              "      <td>3.450215</td>\n",
              "      <td>0.167266</td>\n",
              "      <td>2.006161</td>\n",
              "      <td>0.465405</td>\n",
              "      <td>0.544807</td>\n",
              "      <td>7.506729</td>\n",
              "      <td>8.150308</td>\n",
              "      <td>14.237589</td>\n",
              "      <td>5.195841</td>\n",
              "      <td>686.479875</td>\n",
              "      <td>1559.758728</td>\n",
              "      <td>1936.011647</td>\n",
              "    </tr>\n",
              "    <tr>\n",
              "      <th>min</th>\n",
              "      <td>1.000000</td>\n",
              "      <td>1.000000</td>\n",
              "      <td>0.000000</td>\n",
              "      <td>1.000000</td>\n",
              "      <td>0.000000</td>\n",
              "      <td>0.000000</td>\n",
              "      <td>0.000000</td>\n",
              "      <td>1.000000</td>\n",
              "      <td>2.424346</td>\n",
              "      <td>3.953480</td>\n",
              "      <td>0.000000</td>\n",
              "      <td>1.500244</td>\n",
              "      <td>2.000000</td>\n",
              "      <td>20.000000</td>\n",
              "      <td>22.000000</td>\n",
              "    </tr>\n",
              "    <tr>\n",
              "      <th>25%</th>\n",
              "      <td>183.250000</td>\n",
              "      <td>2.000000</td>\n",
              "      <td>0.000000</td>\n",
              "      <td>4.000000</td>\n",
              "      <td>0.000000</td>\n",
              "      <td>1.000000</td>\n",
              "      <td>0.000000</td>\n",
              "      <td>1.000000</td>\n",
              "      <td>13.811885</td>\n",
              "      <td>16.889713</td>\n",
              "      <td>52.000000</td>\n",
              "      <td>9.041650</td>\n",
              "      <td>316.250000</td>\n",
              "      <td>2502.250000</td>\n",
              "      <td>3169.750000</td>\n",
              "    </tr>\n",
              "    <tr>\n",
              "      <th>50%</th>\n",
              "      <td>365.500000</td>\n",
              "      <td>3.000000</td>\n",
              "      <td>0.500000</td>\n",
              "      <td>7.000000</td>\n",
              "      <td>0.000000</td>\n",
              "      <td>3.000000</td>\n",
              "      <td>1.000000</td>\n",
              "      <td>1.000000</td>\n",
              "      <td>20.465826</td>\n",
              "      <td>24.368225</td>\n",
              "      <td>62.625000</td>\n",
              "      <td>12.125325</td>\n",
              "      <td>717.000000</td>\n",
              "      <td>3664.500000</td>\n",
              "      <td>4548.500000</td>\n",
              "    </tr>\n",
              "    <tr>\n",
              "      <th>75%</th>\n",
              "      <td>547.750000</td>\n",
              "      <td>3.000000</td>\n",
              "      <td>1.000000</td>\n",
              "      <td>10.000000</td>\n",
              "      <td>0.000000</td>\n",
              "      <td>5.000000</td>\n",
              "      <td>1.000000</td>\n",
              "      <td>2.000000</td>\n",
              "      <td>26.880615</td>\n",
              "      <td>30.445775</td>\n",
              "      <td>72.989575</td>\n",
              "      <td>15.625589</td>\n",
              "      <td>1096.500000</td>\n",
              "      <td>4783.250000</td>\n",
              "      <td>5966.000000</td>\n",
              "    </tr>\n",
              "    <tr>\n",
              "      <th>max</th>\n",
              "      <td>730.000000</td>\n",
              "      <td>4.000000</td>\n",
              "      <td>1.000000</td>\n",
              "      <td>12.000000</td>\n",
              "      <td>1.000000</td>\n",
              "      <td>6.000000</td>\n",
              "      <td>1.000000</td>\n",
              "      <td>3.000000</td>\n",
              "      <td>35.328347</td>\n",
              "      <td>42.044800</td>\n",
              "      <td>97.250000</td>\n",
              "      <td>34.000021</td>\n",
              "      <td>3410.000000</td>\n",
              "      <td>6946.000000</td>\n",
              "      <td>8714.000000</td>\n",
              "    </tr>\n",
              "  </tbody>\n",
              "</table>\n",
              "</div>"
            ],
            "text/plain": [
              "          instant      season  ...   registered          cnt\n",
              "count  730.000000  730.000000  ...   730.000000   730.000000\n",
              "mean   365.500000    2.498630  ...  3658.757534  4508.006849\n",
              "std    210.877136    1.110184  ...  1559.758728  1936.011647\n",
              "min      1.000000    1.000000  ...    20.000000    22.000000\n",
              "25%    183.250000    2.000000  ...  2502.250000  3169.750000\n",
              "50%    365.500000    3.000000  ...  3664.500000  4548.500000\n",
              "75%    547.750000    3.000000  ...  4783.250000  5966.000000\n",
              "max    730.000000    4.000000  ...  6946.000000  8714.000000\n",
              "\n",
              "[8 rows x 15 columns]"
            ]
          },
          "metadata": {
            "tags": []
          },
          "execution_count": 50
        }
      ]
    },
    {
      "cell_type": "markdown",
      "metadata": {
        "id": "FFZD8T3h9xny"
      },
      "source": [
        "droping the unnecessary column"
      ]
    },
    {
      "cell_type": "code",
      "metadata": {
        "id": "JZusHWUp83mu"
      },
      "source": [
        "df=df.drop([\"instant\",\"dteday\",\"casual\",\"registered\"],axis=1)"
      ],
      "execution_count": 51,
      "outputs": []
    },
    {
      "cell_type": "code",
      "metadata": {
        "colab": {
          "base_uri": "https://localhost:8080/",
          "height": 204
        },
        "id": "Aaz8cPKZ-xeo",
        "outputId": "5fbc21ac-cee4-4124-d883-7aafd210f2dc"
      },
      "source": [
        "df.head()"
      ],
      "execution_count": 52,
      "outputs": [
        {
          "output_type": "execute_result",
          "data": {
            "text/html": [
              "<div>\n",
              "<style scoped>\n",
              "    .dataframe tbody tr th:only-of-type {\n",
              "        vertical-align: middle;\n",
              "    }\n",
              "\n",
              "    .dataframe tbody tr th {\n",
              "        vertical-align: top;\n",
              "    }\n",
              "\n",
              "    .dataframe thead th {\n",
              "        text-align: right;\n",
              "    }\n",
              "</style>\n",
              "<table border=\"1\" class=\"dataframe\">\n",
              "  <thead>\n",
              "    <tr style=\"text-align: right;\">\n",
              "      <th></th>\n",
              "      <th>season</th>\n",
              "      <th>yr</th>\n",
              "      <th>mnth</th>\n",
              "      <th>holiday</th>\n",
              "      <th>weekday</th>\n",
              "      <th>workingday</th>\n",
              "      <th>weathersit</th>\n",
              "      <th>temp</th>\n",
              "      <th>atemp</th>\n",
              "      <th>hum</th>\n",
              "      <th>windspeed</th>\n",
              "      <th>cnt</th>\n",
              "    </tr>\n",
              "  </thead>\n",
              "  <tbody>\n",
              "    <tr>\n",
              "      <th>0</th>\n",
              "      <td>1</td>\n",
              "      <td>0</td>\n",
              "      <td>1</td>\n",
              "      <td>0</td>\n",
              "      <td>6</td>\n",
              "      <td>0</td>\n",
              "      <td>2</td>\n",
              "      <td>14.110847</td>\n",
              "      <td>18.18125</td>\n",
              "      <td>80.5833</td>\n",
              "      <td>10.749882</td>\n",
              "      <td>985</td>\n",
              "    </tr>\n",
              "    <tr>\n",
              "      <th>1</th>\n",
              "      <td>1</td>\n",
              "      <td>0</td>\n",
              "      <td>1</td>\n",
              "      <td>0</td>\n",
              "      <td>0</td>\n",
              "      <td>0</td>\n",
              "      <td>2</td>\n",
              "      <td>14.902598</td>\n",
              "      <td>17.68695</td>\n",
              "      <td>69.6087</td>\n",
              "      <td>16.652113</td>\n",
              "      <td>801</td>\n",
              "    </tr>\n",
              "    <tr>\n",
              "      <th>2</th>\n",
              "      <td>1</td>\n",
              "      <td>0</td>\n",
              "      <td>1</td>\n",
              "      <td>0</td>\n",
              "      <td>1</td>\n",
              "      <td>1</td>\n",
              "      <td>1</td>\n",
              "      <td>8.050924</td>\n",
              "      <td>9.47025</td>\n",
              "      <td>43.7273</td>\n",
              "      <td>16.636703</td>\n",
              "      <td>1349</td>\n",
              "    </tr>\n",
              "    <tr>\n",
              "      <th>3</th>\n",
              "      <td>1</td>\n",
              "      <td>0</td>\n",
              "      <td>1</td>\n",
              "      <td>0</td>\n",
              "      <td>2</td>\n",
              "      <td>1</td>\n",
              "      <td>1</td>\n",
              "      <td>8.200000</td>\n",
              "      <td>10.60610</td>\n",
              "      <td>59.0435</td>\n",
              "      <td>10.739832</td>\n",
              "      <td>1562</td>\n",
              "    </tr>\n",
              "    <tr>\n",
              "      <th>4</th>\n",
              "      <td>1</td>\n",
              "      <td>0</td>\n",
              "      <td>1</td>\n",
              "      <td>0</td>\n",
              "      <td>3</td>\n",
              "      <td>1</td>\n",
              "      <td>1</td>\n",
              "      <td>9.305237</td>\n",
              "      <td>11.46350</td>\n",
              "      <td>43.6957</td>\n",
              "      <td>12.522300</td>\n",
              "      <td>1600</td>\n",
              "    </tr>\n",
              "  </tbody>\n",
              "</table>\n",
              "</div>"
            ],
            "text/plain": [
              "   season  yr  mnth  holiday  ...     atemp      hum  windspeed   cnt\n",
              "0       1   0     1        0  ...  18.18125  80.5833  10.749882   985\n",
              "1       1   0     1        0  ...  17.68695  69.6087  16.652113   801\n",
              "2       1   0     1        0  ...   9.47025  43.7273  16.636703  1349\n",
              "3       1   0     1        0  ...  10.60610  59.0435  10.739832  1562\n",
              "4       1   0     1        0  ...  11.46350  43.6957  12.522300  1600\n",
              "\n",
              "[5 rows x 12 columns]"
            ]
          },
          "metadata": {
            "tags": []
          },
          "execution_count": 52
        }
      ]
    },
    {
      "cell_type": "markdown",
      "metadata": {
        "id": "yi3IsTFzErbk"
      },
      "source": [
        "Mapping the categorical variables"
      ]
    },
    {
      "cell_type": "code",
      "metadata": {
        "id": "tZrYTQ22EqbI"
      },
      "source": [
        "df['season']=df['season'].map({1: 'spring', 2: 'summer',3:'fall', 4:'winter'})\n",
        "df['mnth']=df['mnth'].map({1: 'jan', 2: 'feb',3:'mar', 4:'apr',5:\"may\",6:\"june\",7:\"jul\",8:\"aug\",9:\"sep\",10:\"oct\",11:\"nov\",12:\"dec\"})\n",
        "df['weekday']=df['weekday'].map({0:\"sun\",1: 'Mon', 2: 'Tue',3:'Wed', 4:'Thu',5:\"Fri\",6:\"Sat\"})\n",
        "df['weathersit']=df['weathersit'].map({1: 'clear', 2: 'mist+cloudy',3:'light snow', 4:'heavy rain'})"
      ],
      "execution_count": 53,
      "outputs": []
    },
    {
      "cell_type": "code",
      "metadata": {
        "colab": {
          "base_uri": "https://localhost:8080/",
          "height": 204
        },
        "id": "4I9kDdwGEzkE",
        "outputId": "ed3b9701-18e5-478a-9613-a95b919e32c1"
      },
      "source": [
        "df.head()"
      ],
      "execution_count": 54,
      "outputs": [
        {
          "output_type": "execute_result",
          "data": {
            "text/html": [
              "<div>\n",
              "<style scoped>\n",
              "    .dataframe tbody tr th:only-of-type {\n",
              "        vertical-align: middle;\n",
              "    }\n",
              "\n",
              "    .dataframe tbody tr th {\n",
              "        vertical-align: top;\n",
              "    }\n",
              "\n",
              "    .dataframe thead th {\n",
              "        text-align: right;\n",
              "    }\n",
              "</style>\n",
              "<table border=\"1\" class=\"dataframe\">\n",
              "  <thead>\n",
              "    <tr style=\"text-align: right;\">\n",
              "      <th></th>\n",
              "      <th>season</th>\n",
              "      <th>yr</th>\n",
              "      <th>mnth</th>\n",
              "      <th>holiday</th>\n",
              "      <th>weekday</th>\n",
              "      <th>workingday</th>\n",
              "      <th>weathersit</th>\n",
              "      <th>temp</th>\n",
              "      <th>atemp</th>\n",
              "      <th>hum</th>\n",
              "      <th>windspeed</th>\n",
              "      <th>cnt</th>\n",
              "    </tr>\n",
              "  </thead>\n",
              "  <tbody>\n",
              "    <tr>\n",
              "      <th>0</th>\n",
              "      <td>spring</td>\n",
              "      <td>0</td>\n",
              "      <td>jan</td>\n",
              "      <td>0</td>\n",
              "      <td>Sat</td>\n",
              "      <td>0</td>\n",
              "      <td>mist+cloudy</td>\n",
              "      <td>14.110847</td>\n",
              "      <td>18.18125</td>\n",
              "      <td>80.5833</td>\n",
              "      <td>10.749882</td>\n",
              "      <td>985</td>\n",
              "    </tr>\n",
              "    <tr>\n",
              "      <th>1</th>\n",
              "      <td>spring</td>\n",
              "      <td>0</td>\n",
              "      <td>jan</td>\n",
              "      <td>0</td>\n",
              "      <td>sun</td>\n",
              "      <td>0</td>\n",
              "      <td>mist+cloudy</td>\n",
              "      <td>14.902598</td>\n",
              "      <td>17.68695</td>\n",
              "      <td>69.6087</td>\n",
              "      <td>16.652113</td>\n",
              "      <td>801</td>\n",
              "    </tr>\n",
              "    <tr>\n",
              "      <th>2</th>\n",
              "      <td>spring</td>\n",
              "      <td>0</td>\n",
              "      <td>jan</td>\n",
              "      <td>0</td>\n",
              "      <td>Mon</td>\n",
              "      <td>1</td>\n",
              "      <td>clear</td>\n",
              "      <td>8.050924</td>\n",
              "      <td>9.47025</td>\n",
              "      <td>43.7273</td>\n",
              "      <td>16.636703</td>\n",
              "      <td>1349</td>\n",
              "    </tr>\n",
              "    <tr>\n",
              "      <th>3</th>\n",
              "      <td>spring</td>\n",
              "      <td>0</td>\n",
              "      <td>jan</td>\n",
              "      <td>0</td>\n",
              "      <td>Tue</td>\n",
              "      <td>1</td>\n",
              "      <td>clear</td>\n",
              "      <td>8.200000</td>\n",
              "      <td>10.60610</td>\n",
              "      <td>59.0435</td>\n",
              "      <td>10.739832</td>\n",
              "      <td>1562</td>\n",
              "    </tr>\n",
              "    <tr>\n",
              "      <th>4</th>\n",
              "      <td>spring</td>\n",
              "      <td>0</td>\n",
              "      <td>jan</td>\n",
              "      <td>0</td>\n",
              "      <td>Wed</td>\n",
              "      <td>1</td>\n",
              "      <td>clear</td>\n",
              "      <td>9.305237</td>\n",
              "      <td>11.46350</td>\n",
              "      <td>43.6957</td>\n",
              "      <td>12.522300</td>\n",
              "      <td>1600</td>\n",
              "    </tr>\n",
              "  </tbody>\n",
              "</table>\n",
              "</div>"
            ],
            "text/plain": [
              "   season  yr mnth  holiday  ...     atemp      hum  windspeed   cnt\n",
              "0  spring   0  jan        0  ...  18.18125  80.5833  10.749882   985\n",
              "1  spring   0  jan        0  ...  17.68695  69.6087  16.652113   801\n",
              "2  spring   0  jan        0  ...   9.47025  43.7273  16.636703  1349\n",
              "3  spring   0  jan        0  ...  10.60610  59.0435  10.739832  1562\n",
              "4  spring   0  jan        0  ...  11.46350  43.6957  12.522300  1600\n",
              "\n",
              "[5 rows x 12 columns]"
            ]
          },
          "metadata": {
            "tags": []
          },
          "execution_count": 54
        }
      ]
    },
    {
      "cell_type": "markdown",
      "metadata": {
        "id": "ybYvzPNdE6_C"
      },
      "source": [
        "checking the object type of all varibale"
      ]
    },
    {
      "cell_type": "code",
      "metadata": {
        "colab": {
          "base_uri": "https://localhost:8080/"
        },
        "id": "H6lintJcE6Qw",
        "outputId": "5dd98e8f-64bd-4f4b-d1e7-61c65fa8082f"
      },
      "source": [
        "df.info()"
      ],
      "execution_count": 55,
      "outputs": [
        {
          "output_type": "stream",
          "text": [
            "<class 'pandas.core.frame.DataFrame'>\n",
            "RangeIndex: 730 entries, 0 to 729\n",
            "Data columns (total 12 columns):\n",
            " #   Column      Non-Null Count  Dtype  \n",
            "---  ------      --------------  -----  \n",
            " 0   season      730 non-null    object \n",
            " 1   yr          730 non-null    int64  \n",
            " 2   mnth        730 non-null    object \n",
            " 3   holiday     730 non-null    int64  \n",
            " 4   weekday     730 non-null    object \n",
            " 5   workingday  730 non-null    int64  \n",
            " 6   weathersit  730 non-null    object \n",
            " 7   temp        730 non-null    float64\n",
            " 8   atemp       730 non-null    float64\n",
            " 9   hum         730 non-null    float64\n",
            " 10  windspeed   730 non-null    float64\n",
            " 11  cnt         730 non-null    int64  \n",
            "dtypes: float64(4), int64(4), object(4)\n",
            "memory usage: 68.6+ KB\n"
          ],
          "name": "stdout"
        }
      ]
    },
    {
      "cell_type": "markdown",
      "metadata": {
        "id": "EUlcHhZ9FM3J"
      },
      "source": [
        "Visualising the Data"
      ]
    },
    {
      "cell_type": "code",
      "metadata": {
        "id": "j4xEJrWWFIWT"
      },
      "source": [
        "import matplotlib.pyplot as plt\n",
        "import seaborn as sns"
      ],
      "execution_count": 56,
      "outputs": []
    },
    {
      "cell_type": "markdown",
      "metadata": {
        "id": "zsc8CPpbFdAj"
      },
      "source": [
        "Visualizing Numerical variable"
      ]
    },
    {
      "cell_type": "code",
      "metadata": {
        "colab": {
          "base_uri": "https://localhost:8080/",
          "height": 34
        },
        "id": "B-X-tRUPFVMG",
        "outputId": "1403013d-4dff-4964-ffd2-42920702e771"
      },
      "source": [
        "plt.figure(figsize=(20,10))\n",
        "sns.pairplot(df,vars=['temp','atemp','hum','windspeed','cnt'])\n",
        "plt.show()"
      ],
      "execution_count": null,
      "outputs": [
        {
          "output_type": "display_data",
          "data": {
            "text/plain": [
              "<Figure size 1440x720 with 0 Axes>"
            ]
          },
          "metadata": {
            "tags": []
          }
        }
      ]
    },
    {
      "cell_type": "markdown",
      "metadata": {
        "id": "8G_YI97qFmbS"
      },
      "source": [
        "Visualising categorical varibale"
      ]
    },
    {
      "cell_type": "code",
      "metadata": {
        "id": "PE6SCpqYFZAD"
      },
      "source": [
        "plt.figure(figsize=(20, 12))\n",
        "plt.subplot(2,3,1)\n",
        "sns.boxplot(x = 'weekday', y = 'cnt', data = df)\n",
        "plt.subplot(2,3,2)\n",
        "sns.boxplot(x = 'season', y = 'cnt', data = df)\n",
        "plt.subplot(2,3,3)\n",
        "sns.boxplot(x = 'mnth', y = 'cnt', data = df)\n",
        "plt.subplot(2,3,4)\n",
        "sns.boxplot(x = 'weathersit', y = 'cnt', data = df)\n",
        "plt.subplot(2,3,5)\n",
        "sns.boxplot(x = 'yr', y = 'cnt', data = df)\n",
        "plt.subplot(2,3,6)\n",
        "sns.boxplot(x = 'workingday', y = 'cnt', data = df)\n",
        "plt.show()"
      ],
      "execution_count": null,
      "outputs": []
    },
    {
      "cell_type": "markdown",
      "metadata": {
        "id": "VfVcUxiPF3sD"
      },
      "source": [
        "checking the correlation coefficients to see which variables are highly correlated"
      ]
    },
    {
      "cell_type": "code",
      "metadata": {
        "id": "X6yYf8d5Fqvr"
      },
      "source": [
        "plt.figure(figsize = (16, 10))\n",
        "sns.heatmap(df.corr(), annot = True)\n",
        "plt.show()"
      ],
      "execution_count": null,
      "outputs": []
    },
    {
      "cell_type": "markdown",
      "metadata": {
        "id": "O9ge8Pj9F_pg"
      },
      "source": [
        "From above heatmap its clear that temp and atemp is highly corelated, its better to drop one of these."
      ]
    },
    {
      "cell_type": "code",
      "metadata": {
        "id": "TqrOkXDbF6OW"
      },
      "source": [
        "df=df.drop([\"atemp\"], axis=1)"
      ],
      "execution_count": null,
      "outputs": []
    },
    {
      "cell_type": "markdown",
      "metadata": {
        "id": "9PujJ3N3GS15"
      },
      "source": [
        "## data preparation"
      ]
    },
    {
      "cell_type": "markdown",
      "metadata": {
        "id": "tU83KAAyGVxp"
      },
      "source": [
        "creating dummy variables"
      ]
    },
    {
      "cell_type": "markdown",
      "metadata": {
        "id": "AqWEsnYaHe1O"
      },
      "source": [
        ""
      ]
    },
    {
      "cell_type": "code",
      "metadata": {
        "id": "1un02jxvGM9u"
      },
      "source": [
        "status = pd.get_dummies(df['season'], drop_first=True)\n",
        "status1 = pd.get_dummies(df['mnth'], drop_first=True)\n",
        "status2 = pd.get_dummies(df['weekday'], drop_first=True)\n",
        "status3 = pd.get_dummies(df['weathersit'], drop_first=True)"
      ],
      "execution_count": null,
      "outputs": []
    },
    {
      "cell_type": "code",
      "metadata": {
        "id": "diczCmYGHM9o"
      },
      "source": [
        "status.head()"
      ],
      "execution_count": null,
      "outputs": []
    },
    {
      "cell_type": "code",
      "metadata": {
        "id": "rmA1r8B7HPrH"
      },
      "source": [
        "df=pd.concat([df,status,status1, status2, status3], axis =1)"
      ],
      "execution_count": null,
      "outputs": []
    },
    {
      "cell_type": "code",
      "metadata": {
        "id": "G8m8rZA2Hf0v"
      },
      "source": [
        "# Droping 'season',\"weekday\",\"mnth\",\"weathersit\" as we have created the dummies for it\n",
        "df.drop([\"season\",\"weekday\",\"mnth\",\"weathersit\"],axis=1,inplace=True)"
      ],
      "execution_count": null,
      "outputs": []
    },
    {
      "cell_type": "code",
      "metadata": {
        "id": "zYdPtoicHny4"
      },
      "source": [
        "df.head()"
      ],
      "execution_count": null,
      "outputs": []
    },
    {
      "cell_type": "markdown",
      "metadata": {
        "id": "txBQklkqHwBP"
      },
      "source": [
        "Splitting the Data into Training and Testing Sets"
      ]
    },
    {
      "cell_type": "code",
      "metadata": {
        "id": "POXWNh2JHrWv"
      },
      "source": [
        "from sklearn.model_selection import train_test_split\n",
        "np.random.seed(0)\n",
        "df_train, df_test = train_test_split(df, train_size = 0.7, test_size = 0.3, random_state = 100)"
      ],
      "execution_count": null,
      "outputs": []
    },
    {
      "cell_type": "code",
      "metadata": {
        "id": "y95_jf_2H0Lv"
      },
      "source": [
        "df_train.size"
      ],
      "execution_count": null,
      "outputs": []
    },
    {
      "cell_type": "code",
      "metadata": {
        "id": "t4g_5MyAH3-8"
      },
      "source": [
        "df_test.size"
      ],
      "execution_count": null,
      "outputs": []
    },
    {
      "cell_type": "markdown",
      "metadata": {
        "id": "EMFBlwWAH-7T"
      },
      "source": [
        "Rescaling the Features"
      ]
    },
    {
      "cell_type": "code",
      "metadata": {
        "id": "c4PeC5LXH5zr"
      },
      "source": [
        "from sklearn.preprocessing import MinMaxScaler\n",
        "scaler = MinMaxScaler()"
      ],
      "execution_count": null,
      "outputs": []
    },
    {
      "cell_type": "code",
      "metadata": {
        "id": "CFu09yhBIB9C"
      },
      "source": [
        "# Apply scaler() to all the columns except the 'yes-no' and 'dummy' variables\n",
        "num_vars = ['temp', 'hum', 'windspeed', 'cnt']\n",
        "\n",
        "df_train[num_vars] = scaler.fit_transform(df_train[num_vars])\n",
        "\n",
        "df_train.head()"
      ],
      "execution_count": null,
      "outputs": []
    },
    {
      "cell_type": "code",
      "metadata": {
        "id": "55PJCuEUIG9U"
      },
      "source": [
        "df_train.head()"
      ],
      "execution_count": null,
      "outputs": []
    },
    {
      "cell_type": "code",
      "metadata": {
        "id": "NhFOIwhhIq7Q"
      },
      "source": [
        "df_train.describe()"
      ],
      "execution_count": null,
      "outputs": []
    },
    {
      "cell_type": "markdown",
      "metadata": {
        "id": "C7M_MIimJKIC"
      },
      "source": [
        "Dividing into X and Y sets for the model building"
      ]
    },
    {
      "cell_type": "code",
      "metadata": {
        "id": "u7BWqreYJGDH"
      },
      "source": [
        "y_train = df_train.pop('cnt')\n",
        "X_train = df_train"
      ],
      "execution_count": null,
      "outputs": []
    },
    {
      "cell_type": "markdown",
      "metadata": {
        "id": "opZ71o_BJSmD"
      },
      "source": [
        "# Building Model Using RFE(Recursive feature elimination)"
      ]
    },
    {
      "cell_type": "code",
      "metadata": {
        "id": "HbmCcpa5JN1G"
      },
      "source": [
        "# Importing RFE and LinearRegression\n",
        "from sklearn.feature_selection import RFE\n",
        "from sklearn.linear_model import LinearRegression"
      ],
      "execution_count": null,
      "outputs": []
    },
    {
      "cell_type": "code",
      "metadata": {
        "id": "2rcLAU7nJrmQ"
      },
      "source": [
        "# Running RFE with the output number of the variable equal to 10\n",
        "lm = LinearRegression()\n",
        "lm.fit(X_train, y_train)\n",
        "\n",
        "rfe = RFE(lm, 15)             \n",
        "rfe = rfe.fit(X_train, y_train)"
      ],
      "execution_count": null,
      "outputs": []
    },
    {
      "cell_type": "code",
      "metadata": {
        "id": "CO_CmRkPJr9u"
      },
      "source": [
        "list(zip(X_train.columns,rfe.support_,rfe.ranking_))"
      ],
      "execution_count": null,
      "outputs": []
    },
    {
      "cell_type": "code",
      "metadata": {
        "id": "mMvkNMfPJuZT"
      },
      "source": [
        "col = X_train.columns[rfe.support_]\n",
        "col"
      ],
      "execution_count": null,
      "outputs": []
    },
    {
      "cell_type": "code",
      "metadata": {
        "id": "lnUE6HcHKTQ1"
      },
      "source": [
        "X_train.columns[~rfe.support_]"
      ],
      "execution_count": null,
      "outputs": []
    },
    {
      "cell_type": "markdown",
      "metadata": {
        "id": "-ErXn8OUi7P5"
      },
      "source": [
        "## Building model using statsmodel"
      ]
    },
    {
      "cell_type": "code",
      "metadata": {
        "id": "TtM0GpGzKXt-"
      },
      "source": [
        "# Creating X_test dataframe with RFE selected variables\n",
        "X_train_rfe = X_train[col]"
      ],
      "execution_count": null,
      "outputs": []
    },
    {
      "cell_type": "code",
      "metadata": {
        "id": "y_beM8fRjAMl"
      },
      "source": [
        "import statsmodels.api as sm  \n",
        "X_train_rfe = sm.add_constant(X_train_rfe)"
      ],
      "execution_count": null,
      "outputs": []
    },
    {
      "cell_type": "code",
      "metadata": {
        "id": "dY9ztK5_jCWJ"
      },
      "source": [
        "lm = sm.OLS(y_train,X_train_rfe).fit() "
      ],
      "execution_count": null,
      "outputs": []
    },
    {
      "cell_type": "code",
      "metadata": {
        "id": "sdkDtzT0jiBC"
      },
      "source": [
        "print(lm.summary())"
      ],
      "execution_count": null,
      "outputs": []
    },
    {
      "cell_type": "markdown",
      "metadata": {
        "id": "MkcBaOF-jsH1"
      },
      "source": [
        "the p value of 'holiday' is very high, dropping 'holiday' column"
      ]
    },
    {
      "cell_type": "code",
      "metadata": {
        "id": "S1fOba4djkWz"
      },
      "source": [
        "X_train_new = X_train_rfe.drop([\"holiday\"],axis = 1)"
      ],
      "execution_count": null,
      "outputs": []
    },
    {
      "cell_type": "code",
      "metadata": {
        "id": "sFdPXL5mjvVd"
      },
      "source": [
        "X_train_lm = sm.add_constant(X_train_new)\n",
        "lm = sm.OLS(y_train,X_train_lm).fit()  \n",
        "print(lm.summary())"
      ],
      "execution_count": null,
      "outputs": []
    },
    {
      "cell_type": "code",
      "metadata": {
        "id": "ryyecGDHjyVU"
      },
      "source": [
        "X_train_new = X_train_new.drop(['const'], axis=1)"
      ],
      "execution_count": null,
      "outputs": []
    },
    {
      "cell_type": "code",
      "metadata": {
        "id": "3IyNKMi1j5pZ"
      },
      "source": [
        "from statsmodels.stats.outliers_influence import variance_inflation_factor\n",
        "\n",
        "vif = pd.DataFrame()\n",
        "X = X_train_new\n",
        "vif['Features'] = X.columns\n",
        "vif['VIF'] = [variance_inflation_factor(X.values, i) for i in range(X.shape[1])]\n",
        "vif['VIF'] = round(vif['VIF'], 2)\n",
        "vif = vif.sort_values(by = \"VIF\", ascending = False)\n",
        "vif"
      ],
      "execution_count": null,
      "outputs": []
    },
    {
      "cell_type": "markdown",
      "metadata": {
        "id": "z_hixMXNkHCl"
      },
      "source": [
        "P value of \"hum\" is comaparatively high, dropping \"hum\"\n",
        "\n",
        "---\n",
        "\n",
        "\n",
        "\n"
      ]
    },
    {
      "cell_type": "code",
      "metadata": {
        "id": "jKTMq4jKj_CI"
      },
      "source": [
        "X_train_new = X_train_new.drop([\"hum\"],axis = 1)\n",
        "X_train_lm = sm.add_constant(X_train_new)\n",
        "lm = sm.OLS(y_train,X_train_lm).fit()  \n",
        "print(lm.summary())"
      ],
      "execution_count": null,
      "outputs": []
    },
    {
      "cell_type": "code",
      "metadata": {
        "id": "wj1CC0QVkM24"
      },
      "source": [
        "#checking for VIF values\n",
        "from statsmodels.stats.outliers_influence import variance_inflation_factor\n",
        "\n",
        "vif = pd.DataFrame()\n",
        "X = X_train_new\n",
        "vif['Features'] = X.columns\n",
        "vif['VIF'] = [variance_inflation_factor(X.values, i) for i in range(X.shape[1])]\n",
        "vif['VIF'] = round(vif['VIF'], 2)\n",
        "vif = vif.sort_values(by = \"VIF\", ascending = False)\n",
        "vif"
      ],
      "execution_count": null,
      "outputs": []
    }
  ]
}